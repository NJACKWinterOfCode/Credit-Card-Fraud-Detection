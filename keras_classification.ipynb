{
 "cells": [
  {
   "cell_type": "code",
   "execution_count": 1,
   "metadata": {},
   "outputs": [
    {
     "name": "stderr",
     "output_type": "stream",
     "text": [
      "Using TensorFlow backend.\n"
     ]
    }
   ],
   "source": [
    "import pandas as pd\n",
    "import numpy as np\n",
    "np.random.seed(1337)\n",
    "import keras\n",
    "import matplotlib.pyplot as plt\n",
    "import seaborn as sns\n",
    "from sklearn.preprocessing import MinMaxScaler\n",
    "from sklearn.utils import resample\n",
    "from keras import backend as K\n",
    "from tensorflow import keras\n",
    "from tensorflow.keras.layers import Dense\n",
    "import sklearn\n",
    "from sklearn.model_selection import train_test_split\n",
    "from sklearn.utils import shuffle\n",
    "from keras import backend as K\n",
    "from tensorflow.keras.models import Sequential\n",
    "df= pd.read_csv(\"Dataset/creditcard.csv\")"
   ]
  },
  {
   "cell_type": "code",
   "execution_count": 2,
   "metadata": {},
   "outputs": [
    {
     "data": {
      "text/html": [
       "<div>\n",
       "<style scoped>\n",
       "    .dataframe tbody tr th:only-of-type {\n",
       "        vertical-align: middle;\n",
       "    }\n",
       "\n",
       "    .dataframe tbody tr th {\n",
       "        vertical-align: top;\n",
       "    }\n",
       "\n",
       "    .dataframe thead th {\n",
       "        text-align: right;\n",
       "    }\n",
       "</style>\n",
       "<table border=\"1\" class=\"dataframe\">\n",
       "  <thead>\n",
       "    <tr style=\"text-align: right;\">\n",
       "      <th></th>\n",
       "      <th>Time</th>\n",
       "      <th>V1</th>\n",
       "      <th>V2</th>\n",
       "      <th>V3</th>\n",
       "      <th>V4</th>\n",
       "      <th>V5</th>\n",
       "      <th>V6</th>\n",
       "      <th>V7</th>\n",
       "      <th>V8</th>\n",
       "      <th>V9</th>\n",
       "      <th>...</th>\n",
       "      <th>V21</th>\n",
       "      <th>V22</th>\n",
       "      <th>V23</th>\n",
       "      <th>V24</th>\n",
       "      <th>V25</th>\n",
       "      <th>V26</th>\n",
       "      <th>V27</th>\n",
       "      <th>V28</th>\n",
       "      <th>Amount</th>\n",
       "      <th>Class</th>\n",
       "    </tr>\n",
       "  </thead>\n",
       "  <tbody>\n",
       "    <tr>\n",
       "      <td>count</td>\n",
       "      <td>279949.000000</td>\n",
       "      <td>279949.000000</td>\n",
       "      <td>279949.000000</td>\n",
       "      <td>279949.000000</td>\n",
       "      <td>279949.000000</td>\n",
       "      <td>279949.000000</td>\n",
       "      <td>279949.000000</td>\n",
       "      <td>279949.000000</td>\n",
       "      <td>279949.000000</td>\n",
       "      <td>279949.000000</td>\n",
       "      <td>...</td>\n",
       "      <td>279949.000000</td>\n",
       "      <td>279949.000000</td>\n",
       "      <td>279949.000000</td>\n",
       "      <td>279949.000000</td>\n",
       "      <td>279949.000000</td>\n",
       "      <td>279949.000000</td>\n",
       "      <td>279949.000000</td>\n",
       "      <td>279949.000000</td>\n",
       "      <td>279949.000000</td>\n",
       "      <td>279949.000000</td>\n",
       "    </tr>\n",
       "    <tr>\n",
       "      <td>mean</td>\n",
       "      <td>93493.773580</td>\n",
       "      <td>-0.001013</td>\n",
       "      <td>-0.005981</td>\n",
       "      <td>0.013645</td>\n",
       "      <td>0.002200</td>\n",
       "      <td>-0.004974</td>\n",
       "      <td>0.002555</td>\n",
       "      <td>-0.002103</td>\n",
       "      <td>-0.000620</td>\n",
       "      <td>-0.000111</td>\n",
       "      <td>...</td>\n",
       "      <td>-0.000277</td>\n",
       "      <td>-0.001540</td>\n",
       "      <td>-0.000762</td>\n",
       "      <td>-0.000310</td>\n",
       "      <td>0.002419</td>\n",
       "      <td>0.000037</td>\n",
       "      <td>0.000065</td>\n",
       "      <td>0.000029</td>\n",
       "      <td>88.689328</td>\n",
       "      <td>0.001743</td>\n",
       "    </tr>\n",
       "    <tr>\n",
       "      <td>std</td>\n",
       "      <td>46819.605382</td>\n",
       "      <td>1.956698</td>\n",
       "      <td>1.650802</td>\n",
       "      <td>1.513507</td>\n",
       "      <td>1.415784</td>\n",
       "      <td>1.379128</td>\n",
       "      <td>1.330843</td>\n",
       "      <td>1.235432</td>\n",
       "      <td>1.192263</td>\n",
       "      <td>1.100348</td>\n",
       "      <td>...</td>\n",
       "      <td>0.735580</td>\n",
       "      <td>0.724268</td>\n",
       "      <td>0.626659</td>\n",
       "      <td>0.605957</td>\n",
       "      <td>0.520459</td>\n",
       "      <td>0.482750</td>\n",
       "      <td>0.403044</td>\n",
       "      <td>0.330863</td>\n",
       "      <td>250.331097</td>\n",
       "      <td>0.041715</td>\n",
       "    </tr>\n",
       "    <tr>\n",
       "      <td>min</td>\n",
       "      <td>0.000000</td>\n",
       "      <td>-56.407510</td>\n",
       "      <td>-72.715728</td>\n",
       "      <td>-48.325589</td>\n",
       "      <td>-5.683171</td>\n",
       "      <td>-113.743307</td>\n",
       "      <td>-26.160506</td>\n",
       "      <td>-43.557242</td>\n",
       "      <td>-73.216718</td>\n",
       "      <td>-13.434066</td>\n",
       "      <td>...</td>\n",
       "      <td>-34.830382</td>\n",
       "      <td>-10.933144</td>\n",
       "      <td>-44.807735</td>\n",
       "      <td>-2.836627</td>\n",
       "      <td>-10.295397</td>\n",
       "      <td>-2.604551</td>\n",
       "      <td>-22.565679</td>\n",
       "      <td>-15.430084</td>\n",
       "      <td>0.000000</td>\n",
       "      <td>0.000000</td>\n",
       "    </tr>\n",
       "    <tr>\n",
       "      <td>25%</td>\n",
       "      <td>53660.000000</td>\n",
       "      <td>-0.920386</td>\n",
       "      <td>-0.602418</td>\n",
       "      <td>-0.871328</td>\n",
       "      <td>-0.848565</td>\n",
       "      <td>-0.696769</td>\n",
       "      <td>-0.765626</td>\n",
       "      <td>-0.555849</td>\n",
       "      <td>-0.207593</td>\n",
       "      <td>-0.645372</td>\n",
       "      <td>...</td>\n",
       "      <td>-0.227939</td>\n",
       "      <td>-0.540894</td>\n",
       "      <td>-0.162242</td>\n",
       "      <td>-0.354498</td>\n",
       "      <td>-0.314231</td>\n",
       "      <td>-0.327508</td>\n",
       "      <td>-0.070713</td>\n",
       "      <td>-0.052699</td>\n",
       "      <td>5.720000</td>\n",
       "      <td>0.000000</td>\n",
       "    </tr>\n",
       "    <tr>\n",
       "      <td>50%</td>\n",
       "      <td>83456.000000</td>\n",
       "      <td>0.019256</td>\n",
       "      <td>0.062769</td>\n",
       "      <td>0.195399</td>\n",
       "      <td>-0.015383</td>\n",
       "      <td>-0.060620</td>\n",
       "      <td>-0.270649</td>\n",
       "      <td>0.037116</td>\n",
       "      <td>0.023006</td>\n",
       "      <td>-0.052506</td>\n",
       "      <td>...</td>\n",
       "      <td>-0.029834</td>\n",
       "      <td>0.005531</td>\n",
       "      <td>-0.011919</td>\n",
       "      <td>0.041344</td>\n",
       "      <td>0.021121</td>\n",
       "      <td>-0.053060</td>\n",
       "      <td>0.001502</td>\n",
       "      <td>0.011561</td>\n",
       "      <td>22.130000</td>\n",
       "      <td>0.000000</td>\n",
       "    </tr>\n",
       "    <tr>\n",
       "      <td>75%</td>\n",
       "      <td>137788.000000</td>\n",
       "      <td>1.310178</td>\n",
       "      <td>0.797892</td>\n",
       "      <td>1.037772</td>\n",
       "      <td>0.749851</td>\n",
       "      <td>0.605564</td>\n",
       "      <td>0.401720</td>\n",
       "      <td>0.566616</td>\n",
       "      <td>0.327047</td>\n",
       "      <td>0.599040</td>\n",
       "      <td>...</td>\n",
       "      <td>0.184745</td>\n",
       "      <td>0.524303</td>\n",
       "      <td>0.146380</td>\n",
       "      <td>0.438032</td>\n",
       "      <td>0.352218</td>\n",
       "      <td>0.241927</td>\n",
       "      <td>0.090611</td>\n",
       "      <td>0.078041</td>\n",
       "      <td>77.890000</td>\n",
       "      <td>0.000000</td>\n",
       "    </tr>\n",
       "    <tr>\n",
       "      <td>max</td>\n",
       "      <td>169197.000000</td>\n",
       "      <td>2.454930</td>\n",
       "      <td>22.057729</td>\n",
       "      <td>9.382558</td>\n",
       "      <td>16.875344</td>\n",
       "      <td>34.801666</td>\n",
       "      <td>73.301626</td>\n",
       "      <td>120.589494</td>\n",
       "      <td>20.007208</td>\n",
       "      <td>15.594995</td>\n",
       "      <td>...</td>\n",
       "      <td>27.202839</td>\n",
       "      <td>10.503090</td>\n",
       "      <td>22.528412</td>\n",
       "      <td>4.584549</td>\n",
       "      <td>7.519589</td>\n",
       "      <td>3.517346</td>\n",
       "      <td>31.612198</td>\n",
       "      <td>33.847808</td>\n",
       "      <td>25691.160000</td>\n",
       "      <td>1.000000</td>\n",
       "    </tr>\n",
       "  </tbody>\n",
       "</table>\n",
       "<p>8 rows × 31 columns</p>\n",
       "</div>"
      ],
      "text/plain": [
       "                Time             V1             V2             V3  \\\n",
       "count  279949.000000  279949.000000  279949.000000  279949.000000   \n",
       "mean    93493.773580      -0.001013      -0.005981       0.013645   \n",
       "std     46819.605382       1.956698       1.650802       1.513507   \n",
       "min         0.000000     -56.407510     -72.715728     -48.325589   \n",
       "25%     53660.000000      -0.920386      -0.602418      -0.871328   \n",
       "50%     83456.000000       0.019256       0.062769       0.195399   \n",
       "75%    137788.000000       1.310178       0.797892       1.037772   \n",
       "max    169197.000000       2.454930      22.057729       9.382558   \n",
       "\n",
       "                  V4             V5             V6             V7  \\\n",
       "count  279949.000000  279949.000000  279949.000000  279949.000000   \n",
       "mean        0.002200      -0.004974       0.002555      -0.002103   \n",
       "std         1.415784       1.379128       1.330843       1.235432   \n",
       "min        -5.683171    -113.743307     -26.160506     -43.557242   \n",
       "25%        -0.848565      -0.696769      -0.765626      -0.555849   \n",
       "50%        -0.015383      -0.060620      -0.270649       0.037116   \n",
       "75%         0.749851       0.605564       0.401720       0.566616   \n",
       "max        16.875344      34.801666      73.301626     120.589494   \n",
       "\n",
       "                  V8             V9  ...            V21            V22  \\\n",
       "count  279949.000000  279949.000000  ...  279949.000000  279949.000000   \n",
       "mean       -0.000620      -0.000111  ...      -0.000277      -0.001540   \n",
       "std         1.192263       1.100348  ...       0.735580       0.724268   \n",
       "min       -73.216718     -13.434066  ...     -34.830382     -10.933144   \n",
       "25%        -0.207593      -0.645372  ...      -0.227939      -0.540894   \n",
       "50%         0.023006      -0.052506  ...      -0.029834       0.005531   \n",
       "75%         0.327047       0.599040  ...       0.184745       0.524303   \n",
       "max        20.007208      15.594995  ...      27.202839      10.503090   \n",
       "\n",
       "                 V23            V24            V25            V26  \\\n",
       "count  279949.000000  279949.000000  279949.000000  279949.000000   \n",
       "mean       -0.000762      -0.000310       0.002419       0.000037   \n",
       "std         0.626659       0.605957       0.520459       0.482750   \n",
       "min       -44.807735      -2.836627     -10.295397      -2.604551   \n",
       "25%        -0.162242      -0.354498      -0.314231      -0.327508   \n",
       "50%        -0.011919       0.041344       0.021121      -0.053060   \n",
       "75%         0.146380       0.438032       0.352218       0.241927   \n",
       "max        22.528412       4.584549       7.519589       3.517346   \n",
       "\n",
       "                 V27            V28         Amount          Class  \n",
       "count  279949.000000  279949.000000  279949.000000  279949.000000  \n",
       "mean        0.000065       0.000029      88.689328       0.001743  \n",
       "std         0.403044       0.330863     250.331097       0.041715  \n",
       "min       -22.565679     -15.430084       0.000000       0.000000  \n",
       "25%        -0.070713      -0.052699       5.720000       0.000000  \n",
       "50%         0.001502       0.011561      22.130000       0.000000  \n",
       "75%         0.090611       0.078041      77.890000       0.000000  \n",
       "max        31.612198      33.847808   25691.160000       1.000000  \n",
       "\n",
       "[8 rows x 31 columns]"
      ]
     },
     "execution_count": 2,
     "metadata": {},
     "output_type": "execute_result"
    }
   ],
   "source": [
    "df.describe()"
   ]
  },
  {
   "cell_type": "code",
   "execution_count": 3,
   "metadata": {},
   "outputs": [
    {
     "data": {
      "text/html": [
       "<div>\n",
       "<style scoped>\n",
       "    .dataframe tbody tr th:only-of-type {\n",
       "        vertical-align: middle;\n",
       "    }\n",
       "\n",
       "    .dataframe tbody tr th {\n",
       "        vertical-align: top;\n",
       "    }\n",
       "\n",
       "    .dataframe thead th {\n",
       "        text-align: right;\n",
       "    }\n",
       "</style>\n",
       "<table border=\"1\" class=\"dataframe\">\n",
       "  <thead>\n",
       "    <tr style=\"text-align: right;\">\n",
       "      <th></th>\n",
       "      <th>Time</th>\n",
       "      <th>V1</th>\n",
       "      <th>V2</th>\n",
       "      <th>V3</th>\n",
       "      <th>V4</th>\n",
       "      <th>V5</th>\n",
       "      <th>V6</th>\n",
       "      <th>V7</th>\n",
       "      <th>V8</th>\n",
       "      <th>V9</th>\n",
       "      <th>...</th>\n",
       "      <th>V21</th>\n",
       "      <th>V22</th>\n",
       "      <th>V23</th>\n",
       "      <th>V24</th>\n",
       "      <th>V25</th>\n",
       "      <th>V26</th>\n",
       "      <th>V27</th>\n",
       "      <th>V28</th>\n",
       "      <th>Amount</th>\n",
       "      <th>Class</th>\n",
       "    </tr>\n",
       "  </thead>\n",
       "  <tbody>\n",
       "    <tr>\n",
       "      <td>0</td>\n",
       "      <td>0.0</td>\n",
       "      <td>-1.359807</td>\n",
       "      <td>-0.072781</td>\n",
       "      <td>2.536347</td>\n",
       "      <td>1.378155</td>\n",
       "      <td>-0.338321</td>\n",
       "      <td>0.462388</td>\n",
       "      <td>0.239599</td>\n",
       "      <td>0.098698</td>\n",
       "      <td>0.363787</td>\n",
       "      <td>...</td>\n",
       "      <td>-0.018307</td>\n",
       "      <td>0.277838</td>\n",
       "      <td>-0.110474</td>\n",
       "      <td>0.066928</td>\n",
       "      <td>0.128539</td>\n",
       "      <td>-0.189115</td>\n",
       "      <td>0.133558</td>\n",
       "      <td>-0.021053</td>\n",
       "      <td>149.62</td>\n",
       "      <td>0.0</td>\n",
       "    </tr>\n",
       "    <tr>\n",
       "      <td>1</td>\n",
       "      <td>0.0</td>\n",
       "      <td>1.191857</td>\n",
       "      <td>0.266151</td>\n",
       "      <td>0.166480</td>\n",
       "      <td>0.448154</td>\n",
       "      <td>0.060018</td>\n",
       "      <td>-0.082361</td>\n",
       "      <td>-0.078803</td>\n",
       "      <td>0.085102</td>\n",
       "      <td>-0.255425</td>\n",
       "      <td>...</td>\n",
       "      <td>-0.225775</td>\n",
       "      <td>-0.638672</td>\n",
       "      <td>0.101288</td>\n",
       "      <td>-0.339846</td>\n",
       "      <td>0.167170</td>\n",
       "      <td>0.125895</td>\n",
       "      <td>-0.008983</td>\n",
       "      <td>0.014724</td>\n",
       "      <td>2.69</td>\n",
       "      <td>0.0</td>\n",
       "    </tr>\n",
       "    <tr>\n",
       "      <td>2</td>\n",
       "      <td>1.0</td>\n",
       "      <td>-1.358354</td>\n",
       "      <td>-1.340163</td>\n",
       "      <td>1.773209</td>\n",
       "      <td>0.379780</td>\n",
       "      <td>-0.503198</td>\n",
       "      <td>1.800499</td>\n",
       "      <td>0.791461</td>\n",
       "      <td>0.247676</td>\n",
       "      <td>-1.514654</td>\n",
       "      <td>...</td>\n",
       "      <td>0.247998</td>\n",
       "      <td>0.771679</td>\n",
       "      <td>0.909412</td>\n",
       "      <td>-0.689281</td>\n",
       "      <td>-0.327642</td>\n",
       "      <td>-0.139097</td>\n",
       "      <td>-0.055353</td>\n",
       "      <td>-0.059752</td>\n",
       "      <td>378.66</td>\n",
       "      <td>0.0</td>\n",
       "    </tr>\n",
       "    <tr>\n",
       "      <td>3</td>\n",
       "      <td>1.0</td>\n",
       "      <td>-0.966272</td>\n",
       "      <td>-0.185226</td>\n",
       "      <td>1.792993</td>\n",
       "      <td>-0.863291</td>\n",
       "      <td>-0.010309</td>\n",
       "      <td>1.247203</td>\n",
       "      <td>0.237609</td>\n",
       "      <td>0.377436</td>\n",
       "      <td>-1.387024</td>\n",
       "      <td>...</td>\n",
       "      <td>-0.108300</td>\n",
       "      <td>0.005274</td>\n",
       "      <td>-0.190321</td>\n",
       "      <td>-1.175575</td>\n",
       "      <td>0.647376</td>\n",
       "      <td>-0.221929</td>\n",
       "      <td>0.062723</td>\n",
       "      <td>0.061458</td>\n",
       "      <td>123.50</td>\n",
       "      <td>0.0</td>\n",
       "    </tr>\n",
       "    <tr>\n",
       "      <td>4</td>\n",
       "      <td>2.0</td>\n",
       "      <td>-1.158233</td>\n",
       "      <td>0.877737</td>\n",
       "      <td>1.548718</td>\n",
       "      <td>0.403034</td>\n",
       "      <td>-0.407193</td>\n",
       "      <td>0.095921</td>\n",
       "      <td>0.592941</td>\n",
       "      <td>-0.270533</td>\n",
       "      <td>0.817739</td>\n",
       "      <td>...</td>\n",
       "      <td>-0.009431</td>\n",
       "      <td>0.798278</td>\n",
       "      <td>-0.137458</td>\n",
       "      <td>0.141267</td>\n",
       "      <td>-0.206010</td>\n",
       "      <td>0.502292</td>\n",
       "      <td>0.219422</td>\n",
       "      <td>0.215153</td>\n",
       "      <td>69.99</td>\n",
       "      <td>0.0</td>\n",
       "    </tr>\n",
       "  </tbody>\n",
       "</table>\n",
       "<p>5 rows × 31 columns</p>\n",
       "</div>"
      ],
      "text/plain": [
       "   Time        V1        V2        V3        V4        V5        V6        V7  \\\n",
       "0   0.0 -1.359807 -0.072781  2.536347  1.378155 -0.338321  0.462388  0.239599   \n",
       "1   0.0  1.191857  0.266151  0.166480  0.448154  0.060018 -0.082361 -0.078803   \n",
       "2   1.0 -1.358354 -1.340163  1.773209  0.379780 -0.503198  1.800499  0.791461   \n",
       "3   1.0 -0.966272 -0.185226  1.792993 -0.863291 -0.010309  1.247203  0.237609   \n",
       "4   2.0 -1.158233  0.877737  1.548718  0.403034 -0.407193  0.095921  0.592941   \n",
       "\n",
       "         V8        V9  ...       V21       V22       V23       V24       V25  \\\n",
       "0  0.098698  0.363787  ... -0.018307  0.277838 -0.110474  0.066928  0.128539   \n",
       "1  0.085102 -0.255425  ... -0.225775 -0.638672  0.101288 -0.339846  0.167170   \n",
       "2  0.247676 -1.514654  ...  0.247998  0.771679  0.909412 -0.689281 -0.327642   \n",
       "3  0.377436 -1.387024  ... -0.108300  0.005274 -0.190321 -1.175575  0.647376   \n",
       "4 -0.270533  0.817739  ... -0.009431  0.798278 -0.137458  0.141267 -0.206010   \n",
       "\n",
       "        V26       V27       V28  Amount  Class  \n",
       "0 -0.189115  0.133558 -0.021053  149.62    0.0  \n",
       "1  0.125895 -0.008983  0.014724    2.69    0.0  \n",
       "2 -0.139097 -0.055353 -0.059752  378.66    0.0  \n",
       "3 -0.221929  0.062723  0.061458  123.50    0.0  \n",
       "4  0.502292  0.219422  0.215153   69.99    0.0  \n",
       "\n",
       "[5 rows x 31 columns]"
      ]
     },
     "execution_count": 3,
     "metadata": {},
     "output_type": "execute_result"
    }
   ],
   "source": [
    "df.head()"
   ]
  },
  {
   "cell_type": "code",
   "execution_count": 4,
   "metadata": {},
   "outputs": [
    {
     "data": {
      "text/plain": [
       "Time      float64\n",
       "V1        float64\n",
       "V2        float64\n",
       "V3        float64\n",
       "V4        float64\n",
       "V5        float64\n",
       "V6        float64\n",
       "V7        float64\n",
       "V8        float64\n",
       "V9        float64\n",
       "V10       float64\n",
       "V11       float64\n",
       "V12       float64\n",
       "V13       float64\n",
       "V14       float64\n",
       "V15       float64\n",
       "V16       float64\n",
       "V17       float64\n",
       "V18       float64\n",
       "V19       float64\n",
       "V20       float64\n",
       "V21       float64\n",
       "V22       float64\n",
       "V23       float64\n",
       "V24       float64\n",
       "V25       float64\n",
       "V26       float64\n",
       "V27       float64\n",
       "V28       float64\n",
       "Amount    float64\n",
       "Class     float64\n",
       "dtype: object"
      ]
     },
     "execution_count": 4,
     "metadata": {},
     "output_type": "execute_result"
    }
   ],
   "source": [
    "df.dtypes"
   ]
  },
  {
   "cell_type": "code",
   "execution_count": 5,
   "metadata": {},
   "outputs": [
    {
     "data": {
      "text/plain": [
       "0.0    279461\n",
       "1.0       488\n",
       "Name: Class, dtype: int64"
      ]
     },
     "execution_count": 5,
     "metadata": {},
     "output_type": "execute_result"
    }
   ],
   "source": [
    "df['Class'].value_counts()"
   ]
  },
  {
   "cell_type": "code",
   "execution_count": 6,
   "metadata": {},
   "outputs": [
    {
     "data": {
      "text/plain": [
       "<matplotlib.axes._subplots.AxesSubplot at 0x7fa31821b630>"
      ]
     },
     "execution_count": 6,
     "metadata": {},
     "output_type": "execute_result"
    },
    {
     "data": {
      "image/png": "[encoded data removed]",
      "text/plain": [
       "<Figure size 432x288 with 1 Axes>"
      ]
     },
     "metadata": {
      "needs_background": "light"
     },
     "output_type": "display_data"
    }
   ],
   "source": [
    "p = pd.value_counts(df['Class'], sort = True)\n",
    "p.plot(kind = 'bar', rot=0)"
   ]
  },
  {
   "cell_type": "markdown",
   "metadata": {},
   "source": [
    "IMBALANCED DATASET"
   ]
  },
  {
   "cell_type": "code",
   "execution_count": 7,
   "metadata": {},
   "outputs": [
    {
     "data": {
      "text/plain": [
       "(284617, 31)"
      ]
     },
     "execution_count": 7,
     "metadata": {},
     "output_type": "execute_result"
    }
   ],
   "source": [
    "df.shape"
   ]
  },
  {
   "cell_type": "code",
   "execution_count": 8,
   "metadata": {},
   "outputs": [
    {
     "data": {
      "text/plain": [
       "Time      4668\n",
       "V1        4668\n",
       "V2        4668\n",
       "V3        4668\n",
       "V4        4668\n",
       "V5        4668\n",
       "V6        4668\n",
       "V7        4668\n",
       "V8        4668\n",
       "V9        4668\n",
       "V10       4668\n",
       "V11       4668\n",
       "V12       4668\n",
       "V13       4668\n",
       "V14       4668\n",
       "V15       4668\n",
       "V16       4668\n",
       "V17       4668\n",
       "V18       4668\n",
       "V19       4668\n",
       "V20       4668\n",
       "V21       4668\n",
       "V22       4668\n",
       "V23       4668\n",
       "V24       4668\n",
       "V25       4668\n",
       "V26       4668\n",
       "V27       4668\n",
       "V28       4668\n",
       "Amount    4668\n",
       "Class     4668\n",
       "dtype: int64"
      ]
     },
     "execution_count": 8,
     "metadata": {},
     "output_type": "execute_result"
    }
   ],
   "source": [
    "df.isnull().sum()"
   ]
  },
  {
   "cell_type": "code",
   "execution_count": 9,
   "metadata": {},
   "outputs": [
    {
     "data": {
      "text/plain": [
       "Time     NaN\n",
       "V1       NaN\n",
       "V2       NaN\n",
       "V3       NaN\n",
       "V4       NaN\n",
       "V5       NaN\n",
       "V6       NaN\n",
       "V7       NaN\n",
       "V8       NaN\n",
       "V9       NaN\n",
       "V10      NaN\n",
       "V11      NaN\n",
       "V12      NaN\n",
       "V13      NaN\n",
       "V14      NaN\n",
       "V15      NaN\n",
       "V16      NaN\n",
       "V17      NaN\n",
       "V18      NaN\n",
       "V19      NaN\n",
       "V20      NaN\n",
       "V21      NaN\n",
       "V22      NaN\n",
       "V23      NaN\n",
       "V24      NaN\n",
       "V25      NaN\n",
       "V26      NaN\n",
       "V27      NaN\n",
       "V28      NaN\n",
       "Amount   NaN\n",
       "Class    NaN\n",
       "Name: 284612, dtype: float64"
      ]
     },
     "execution_count": 9,
     "metadata": {},
     "output_type": "execute_result"
    }
   ],
   "source": [
    "df.iloc[284612]    "
   ]
  },
  {
   "cell_type": "code",
   "execution_count": 10,
   "metadata": {},
   "outputs": [],
   "source": [
    "df=df.dropna(axis=0)"
   ]
  },
  {
   "cell_type": "code",
   "execution_count": 11,
   "metadata": {},
   "outputs": [
    {
     "data": {
      "text/plain": [
       "Time      0\n",
       "V1        0\n",
       "V2        0\n",
       "V3        0\n",
       "V4        0\n",
       "V5        0\n",
       "V6        0\n",
       "V7        0\n",
       "V8        0\n",
       "V9        0\n",
       "V10       0\n",
       "V11       0\n",
       "V12       0\n",
       "V13       0\n",
       "V14       0\n",
       "V15       0\n",
       "V16       0\n",
       "V17       0\n",
       "V18       0\n",
       "V19       0\n",
       "V20       0\n",
       "V21       0\n",
       "V22       0\n",
       "V23       0\n",
       "V24       0\n",
       "V25       0\n",
       "V26       0\n",
       "V27       0\n",
       "V28       0\n",
       "Amount    0\n",
       "Class     0\n",
       "dtype: int64"
      ]
     },
     "execution_count": 11,
     "metadata": {},
     "output_type": "execute_result"
    }
   ],
   "source": [
    "df.isnull().sum()"
   ]
  },
  {
   "cell_type": "code",
   "execution_count": 12,
   "metadata": {},
   "outputs": [
    {
     "data": {
      "text/plain": [
       "(279949, 31)"
      ]
     },
     "execution_count": 12,
     "metadata": {},
     "output_type": "execute_result"
    }
   ],
   "source": [
    "df.shape"
   ]
  },
  {
   "cell_type": "code",
   "execution_count": 13,
   "metadata": {},
   "outputs": [
    {
     "data": {
      "text/plain": [
       "<matplotlib.axes._subplots.AxesSubplot at 0x7fa31810be10>"
      ]
     },
     "execution_count": 13,
     "metadata": {},
     "output_type": "execute_result"
    },
    {
     "data": {
      "image/png": "[encoded data removed]",
      "text/plain": [
       "<Figure size 432x288 with 1 Axes>"
      ]
     },
     "metadata": {
      "needs_background": "light"
     },
     "output_type": "display_data"
    }
   ],
   "source": [
    "df['Amount'].plot()"
   ]
  },
  {
   "cell_type": "code",
   "execution_count": 14,
   "metadata": {},
   "outputs": [],
   "source": [
    "Fraud = df[df['Class']==1]\n",
    "Normal = df[df['Class']==0]"
   ]
  },
  {
   "cell_type": "code",
   "execution_count": 15,
   "metadata": {},
   "outputs": [
    {
     "data": {
      "text/plain": [
       "<matplotlib.collections.PathCollection at 0x7fa3180a3ba8>"
      ]
     },
     "execution_count": 15,
     "metadata": {},
     "output_type": "execute_result"
    },
    {
     "data": {
      "image/png": "[encoded data removed]",
      "text/plain": [
       "<Figure size 432x288 with 1 Axes>"
      ]
     },
     "metadata": {
      "needs_background": "light"
     },
     "output_type": "display_data"
    }
   ],
   "source": [
    "plt.scatter(Fraud.Time,Fraud.Amount)"
   ]
  },
  {
   "cell_type": "code",
   "execution_count": 16,
   "metadata": {},
   "outputs": [
    {
     "data": {
      "text/plain": [
       "<matplotlib.collections.PathCollection at 0x7fa318017898>"
      ]
     },
     "execution_count": 16,
     "metadata": {},
     "output_type": "execute_result"
    },
    {
     "data": {
      "image/png": "[encoded data removed]",
      "text/plain": [
       "<Figure size 432x288 with 1 Axes>"
      ]
     },
     "metadata": {
      "needs_background": "light"
     },
     "output_type": "display_data"
    }
   ],
   "source": [
    "plt.scatter(Normal.Time,Normal.Amount)"
   ]
  },
  {
   "cell_type": "code",
   "execution_count": 17,
   "metadata": {},
   "outputs": [],
   "source": [
    "scaler = MinMaxScaler()\n",
    "df['Amount'] = scaler.fit_transform(df['Amount'].values.reshape(-1,1))"
   ]
  },
  {
   "cell_type": "code",
   "execution_count": 18,
   "metadata": {},
   "outputs": [
    {
     "data": {
      "text/html": [
       "<div>\n",
       "<style scoped>\n",
       "    .dataframe tbody tr th:only-of-type {\n",
       "        vertical-align: middle;\n",
       "    }\n",
       "\n",
       "    .dataframe tbody tr th {\n",
       "        vertical-align: top;\n",
       "    }\n",
       "\n",
       "    .dataframe thead th {\n",
       "        text-align: right;\n",
       "    }\n",
       "</style>\n",
       "<table border=\"1\" class=\"dataframe\">\n",
       "  <thead>\n",
       "    <tr style=\"text-align: right;\">\n",
       "      <th></th>\n",
       "      <th>Time</th>\n",
       "      <th>V1</th>\n",
       "      <th>V2</th>\n",
       "      <th>V3</th>\n",
       "      <th>V4</th>\n",
       "      <th>V5</th>\n",
       "      <th>V6</th>\n",
       "      <th>V7</th>\n",
       "      <th>V8</th>\n",
       "      <th>V9</th>\n",
       "      <th>...</th>\n",
       "      <th>V21</th>\n",
       "      <th>V22</th>\n",
       "      <th>V23</th>\n",
       "      <th>V24</th>\n",
       "      <th>V25</th>\n",
       "      <th>V26</th>\n",
       "      <th>V27</th>\n",
       "      <th>V28</th>\n",
       "      <th>Amount</th>\n",
       "      <th>Class</th>\n",
       "    </tr>\n",
       "  </thead>\n",
       "  <tbody>\n",
       "    <tr>\n",
       "      <td>0</td>\n",
       "      <td>0.0</td>\n",
       "      <td>-1.359807</td>\n",
       "      <td>-0.072781</td>\n",
       "      <td>2.536347</td>\n",
       "      <td>1.378155</td>\n",
       "      <td>-0.338321</td>\n",
       "      <td>0.462388</td>\n",
       "      <td>0.239599</td>\n",
       "      <td>0.098698</td>\n",
       "      <td>0.363787</td>\n",
       "      <td>...</td>\n",
       "      <td>-0.018307</td>\n",
       "      <td>0.277838</td>\n",
       "      <td>-0.110474</td>\n",
       "      <td>0.066928</td>\n",
       "      <td>0.128539</td>\n",
       "      <td>-0.189115</td>\n",
       "      <td>0.133558</td>\n",
       "      <td>-0.021053</td>\n",
       "      <td>0.005824</td>\n",
       "      <td>0.0</td>\n",
       "    </tr>\n",
       "    <tr>\n",
       "      <td>1</td>\n",
       "      <td>0.0</td>\n",
       "      <td>1.191857</td>\n",
       "      <td>0.266151</td>\n",
       "      <td>0.166480</td>\n",
       "      <td>0.448154</td>\n",
       "      <td>0.060018</td>\n",
       "      <td>-0.082361</td>\n",
       "      <td>-0.078803</td>\n",
       "      <td>0.085102</td>\n",
       "      <td>-0.255425</td>\n",
       "      <td>...</td>\n",
       "      <td>-0.225775</td>\n",
       "      <td>-0.638672</td>\n",
       "      <td>0.101288</td>\n",
       "      <td>-0.339846</td>\n",
       "      <td>0.167170</td>\n",
       "      <td>0.125895</td>\n",
       "      <td>-0.008983</td>\n",
       "      <td>0.014724</td>\n",
       "      <td>0.000105</td>\n",
       "      <td>0.0</td>\n",
       "    </tr>\n",
       "    <tr>\n",
       "      <td>2</td>\n",
       "      <td>1.0</td>\n",
       "      <td>-1.358354</td>\n",
       "      <td>-1.340163</td>\n",
       "      <td>1.773209</td>\n",
       "      <td>0.379780</td>\n",
       "      <td>-0.503198</td>\n",
       "      <td>1.800499</td>\n",
       "      <td>0.791461</td>\n",
       "      <td>0.247676</td>\n",
       "      <td>-1.514654</td>\n",
       "      <td>...</td>\n",
       "      <td>0.247998</td>\n",
       "      <td>0.771679</td>\n",
       "      <td>0.909412</td>\n",
       "      <td>-0.689281</td>\n",
       "      <td>-0.327642</td>\n",
       "      <td>-0.139097</td>\n",
       "      <td>-0.055353</td>\n",
       "      <td>-0.059752</td>\n",
       "      <td>0.014739</td>\n",
       "      <td>0.0</td>\n",
       "    </tr>\n",
       "    <tr>\n",
       "      <td>3</td>\n",
       "      <td>1.0</td>\n",
       "      <td>-0.966272</td>\n",
       "      <td>-0.185226</td>\n",
       "      <td>1.792993</td>\n",
       "      <td>-0.863291</td>\n",
       "      <td>-0.010309</td>\n",
       "      <td>1.247203</td>\n",
       "      <td>0.237609</td>\n",
       "      <td>0.377436</td>\n",
       "      <td>-1.387024</td>\n",
       "      <td>...</td>\n",
       "      <td>-0.108300</td>\n",
       "      <td>0.005274</td>\n",
       "      <td>-0.190321</td>\n",
       "      <td>-1.175575</td>\n",
       "      <td>0.647376</td>\n",
       "      <td>-0.221929</td>\n",
       "      <td>0.062723</td>\n",
       "      <td>0.061458</td>\n",
       "      <td>0.004807</td>\n",
       "      <td>0.0</td>\n",
       "    </tr>\n",
       "    <tr>\n",
       "      <td>4</td>\n",
       "      <td>2.0</td>\n",
       "      <td>-1.158233</td>\n",
       "      <td>0.877737</td>\n",
       "      <td>1.548718</td>\n",
       "      <td>0.403034</td>\n",
       "      <td>-0.407193</td>\n",
       "      <td>0.095921</td>\n",
       "      <td>0.592941</td>\n",
       "      <td>-0.270533</td>\n",
       "      <td>0.817739</td>\n",
       "      <td>...</td>\n",
       "      <td>-0.009431</td>\n",
       "      <td>0.798278</td>\n",
       "      <td>-0.137458</td>\n",
       "      <td>0.141267</td>\n",
       "      <td>-0.206010</td>\n",
       "      <td>0.502292</td>\n",
       "      <td>0.219422</td>\n",
       "      <td>0.215153</td>\n",
       "      <td>0.002724</td>\n",
       "      <td>0.0</td>\n",
       "    </tr>\n",
       "  </tbody>\n",
       "</table>\n",
       "<p>5 rows × 31 columns</p>\n",
       "</div>"
      ],
      "text/plain": [
       "   Time        V1        V2        V3        V4        V5        V6        V7  \\\n",
       "0   0.0 -1.359807 -0.072781  2.536347  1.378155 -0.338321  0.462388  0.239599   \n",
       "1   0.0  1.191857  0.266151  0.166480  0.448154  0.060018 -0.082361 -0.078803   \n",
       "2   1.0 -1.358354 -1.340163  1.773209  0.379780 -0.503198  1.800499  0.791461   \n",
       "3   1.0 -0.966272 -0.185226  1.792993 -0.863291 -0.010309  1.247203  0.237609   \n",
       "4   2.0 -1.158233  0.877737  1.548718  0.403034 -0.407193  0.095921  0.592941   \n",
       "\n",
       "         V8        V9  ...       V21       V22       V23       V24       V25  \\\n",
       "0  0.098698  0.363787  ... -0.018307  0.277838 -0.110474  0.066928  0.128539   \n",
       "1  0.085102 -0.255425  ... -0.225775 -0.638672  0.101288 -0.339846  0.167170   \n",
       "2  0.247676 -1.514654  ...  0.247998  0.771679  0.909412 -0.689281 -0.327642   \n",
       "3  0.377436 -1.387024  ... -0.108300  0.005274 -0.190321 -1.175575  0.647376   \n",
       "4 -0.270533  0.817739  ... -0.009431  0.798278 -0.137458  0.141267 -0.206010   \n",
       "\n",
       "        V26       V27       V28    Amount  Class  \n",
       "0 -0.189115  0.133558 -0.021053  0.005824    0.0  \n",
       "1  0.125895 -0.008983  0.014724  0.000105    0.0  \n",
       "2 -0.139097 -0.055353 -0.059752  0.014739    0.0  \n",
       "3 -0.221929  0.062723  0.061458  0.004807    0.0  \n",
       "4  0.502292  0.219422  0.215153  0.002724    0.0  \n",
       "\n",
       "[5 rows x 31 columns]"
      ]
     },
     "execution_count": 18,
     "metadata": {},
     "output_type": "execute_result"
    }
   ],
   "source": [
    "df.head()"
   ]
  },
  {
   "cell_type": "code",
   "execution_count": 19,
   "metadata": {},
   "outputs": [],
   "source": [
    "corr = df.corr()"
   ]
  },
  {
   "cell_type": "code",
   "execution_count": null,
   "metadata": {},
   "outputs": [],
   "source": []
  },
  {
   "cell_type": "code",
   "execution_count": 20,
   "metadata": {},
   "outputs": [
    {
     "data": {
      "text/plain": [
       "<matplotlib.axes._subplots.AxesSubplot at 0x7fa317fdaa90>"
      ]
     },
     "execution_count": 20,
     "metadata": {},
     "output_type": "execute_result"
    },
    {
     "data": {
      "image/png": "[encoded data removed]",
      "text/plain": [
       "<Figure size 1440x1080 with 2 Axes>"
      ]
     },
     "metadata": {
      "needs_background": "light"
     },
     "output_type": "display_data"
    }
   ],
   "source": [
    "plt.subplots(figsize=(20,15))\n",
    "sns.heatmap(corr)"
   ]
  },
  {
   "cell_type": "markdown",
   "metadata": {},
   "source": [
    "From Above heatmap-Time and Amount are not much important features for fraud"
   ]
  },
  {
   "cell_type": "markdown",
   "metadata": {},
   "source": [
    "Applying upsampling of minority class"
   ]
  },
  {
   "cell_type": "code",
   "execution_count": 23,
   "metadata": {},
   "outputs": [],
   "source": [
    "df=shuffle(df)"
   ]
  },
  {
   "cell_type": "code",
   "execution_count": 24,
   "metadata": {},
   "outputs": [],
   "source": [
    "df_majority = df[df.Class==0]\n",
    "df_minority = df[df.Class==1]"
   ]
  },
  {
   "cell_type": "code",
   "execution_count": 25,
   "metadata": {},
   "outputs": [
    {
     "data": {
      "text/plain": [
       "279461"
      ]
     },
     "execution_count": 25,
     "metadata": {},
     "output_type": "execute_result"
    }
   ],
   "source": [
    "len(df_majority)"
   ]
  },
  {
   "cell_type": "code",
   "execution_count": 26,
   "metadata": {},
   "outputs": [
    {
     "data": {
      "text/plain": [
       "488"
      ]
     },
     "execution_count": 26,
     "metadata": {},
     "output_type": "execute_result"
    }
   ],
   "source": [
    "len(df_minority)"
   ]
  },
  {
   "cell_type": "code",
   "execution_count": 27,
   "metadata": {},
   "outputs": [],
   "source": [
    "df_minority_upsampled = resample(df_minority, \n",
    "                                 replace=True,     # sample with replacement\n",
    "                                 n_samples=100000,    # to match majority class\n",
    "                                 random_state=123) # reproducible results\n",
    " "
   ]
  },
  {
   "cell_type": "code",
   "execution_count": 28,
   "metadata": {},
   "outputs": [
    {
     "data": {
      "text/html": [
       "<div>\n",
       "<style scoped>\n",
       "    .dataframe tbody tr th:only-of-type {\n",
       "        vertical-align: middle;\n",
       "    }\n",
       "\n",
       "    .dataframe tbody tr th {\n",
       "        vertical-align: top;\n",
       "    }\n",
       "\n",
       "    .dataframe thead th {\n",
       "        text-align: right;\n",
       "    }\n",
       "</style>\n",
       "<table border=\"1\" class=\"dataframe\">\n",
       "  <thead>\n",
       "    <tr style=\"text-align: right;\">\n",
       "      <th></th>\n",
       "      <th>Time</th>\n",
       "      <th>V1</th>\n",
       "      <th>V2</th>\n",
       "      <th>V3</th>\n",
       "      <th>V4</th>\n",
       "      <th>V5</th>\n",
       "      <th>V6</th>\n",
       "      <th>V7</th>\n",
       "      <th>V8</th>\n",
       "      <th>V9</th>\n",
       "      <th>...</th>\n",
       "      <th>V21</th>\n",
       "      <th>V22</th>\n",
       "      <th>V23</th>\n",
       "      <th>V24</th>\n",
       "      <th>V25</th>\n",
       "      <th>V26</th>\n",
       "      <th>V27</th>\n",
       "      <th>V28</th>\n",
       "      <th>Amount</th>\n",
       "      <th>Class</th>\n",
       "    </tr>\n",
       "  </thead>\n",
       "  <tbody>\n",
       "    <tr>\n",
       "      <td>251891</td>\n",
       "      <td>155548.0</td>\n",
       "      <td>1.878230</td>\n",
       "      <td>1.325630</td>\n",
       "      <td>-2.333469</td>\n",
       "      <td>4.233151</td>\n",
       "      <td>1.355184</td>\n",
       "      <td>-0.853508</td>\n",
       "      <td>0.716025</td>\n",
       "      <td>-0.164910</td>\n",
       "      <td>-1.502345</td>\n",
       "      <td>...</td>\n",
       "      <td>-0.152131</td>\n",
       "      <td>-0.360736</td>\n",
       "      <td>0.043414</td>\n",
       "      <td>-0.242380</td>\n",
       "      <td>0.171098</td>\n",
       "      <td>-0.002601</td>\n",
       "      <td>-0.026667</td>\n",
       "      <td>0.005238</td>\n",
       "      <td>0.000275</td>\n",
       "      <td>1.0</td>\n",
       "    </tr>\n",
       "    <tr>\n",
       "      <td>255556</td>\n",
       "      <td>157284.0</td>\n",
       "      <td>-0.242245</td>\n",
       "      <td>4.147186</td>\n",
       "      <td>-5.672349</td>\n",
       "      <td>6.493741</td>\n",
       "      <td>1.591168</td>\n",
       "      <td>-1.602523</td>\n",
       "      <td>-0.950463</td>\n",
       "      <td>0.722903</td>\n",
       "      <td>-4.128505</td>\n",
       "      <td>...</td>\n",
       "      <td>0.249023</td>\n",
       "      <td>-0.480286</td>\n",
       "      <td>-0.286080</td>\n",
       "      <td>-1.153575</td>\n",
       "      <td>-0.035571</td>\n",
       "      <td>0.559628</td>\n",
       "      <td>0.409446</td>\n",
       "      <td>0.221048</td>\n",
       "      <td>0.000030</td>\n",
       "      <td>1.0</td>\n",
       "    </tr>\n",
       "    <tr>\n",
       "      <td>234633</td>\n",
       "      <td>148053.0</td>\n",
       "      <td>1.261324</td>\n",
       "      <td>2.726800</td>\n",
       "      <td>-5.435019</td>\n",
       "      <td>5.342759</td>\n",
       "      <td>1.447043</td>\n",
       "      <td>-1.442584</td>\n",
       "      <td>-0.898702</td>\n",
       "      <td>0.123062</td>\n",
       "      <td>-2.748496</td>\n",
       "      <td>...</td>\n",
       "      <td>0.209086</td>\n",
       "      <td>-0.425938</td>\n",
       "      <td>-0.154440</td>\n",
       "      <td>-0.018820</td>\n",
       "      <td>0.632234</td>\n",
       "      <td>0.192922</td>\n",
       "      <td>0.468181</td>\n",
       "      <td>0.280486</td>\n",
       "      <td>0.000062</td>\n",
       "      <td>1.0</td>\n",
       "    </tr>\n",
       "    <tr>\n",
       "      <td>154960</td>\n",
       "      <td>103808.0</td>\n",
       "      <td>-4.517344</td>\n",
       "      <td>2.500224</td>\n",
       "      <td>-4.013928</td>\n",
       "      <td>1.189452</td>\n",
       "      <td>-2.486861</td>\n",
       "      <td>-1.413476</td>\n",
       "      <td>-4.245707</td>\n",
       "      <td>1.265087</td>\n",
       "      <td>1.168828</td>\n",
       "      <td>...</td>\n",
       "      <td>1.326944</td>\n",
       "      <td>0.102999</td>\n",
       "      <td>0.508167</td>\n",
       "      <td>-0.278018</td>\n",
       "      <td>0.139721</td>\n",
       "      <td>0.064610</td>\n",
       "      <td>-0.972358</td>\n",
       "      <td>0.351360</td>\n",
       "      <td>0.000088</td>\n",
       "      <td>1.0</td>\n",
       "    </tr>\n",
       "    <tr>\n",
       "      <td>15781</td>\n",
       "      <td>27219.0</td>\n",
       "      <td>-25.266355</td>\n",
       "      <td>14.323254</td>\n",
       "      <td>-26.823673</td>\n",
       "      <td>6.349248</td>\n",
       "      <td>-18.664251</td>\n",
       "      <td>-4.647403</td>\n",
       "      <td>-17.971212</td>\n",
       "      <td>16.633103</td>\n",
       "      <td>-3.768351</td>\n",
       "      <td>...</td>\n",
       "      <td>1.780701</td>\n",
       "      <td>-1.861318</td>\n",
       "      <td>-1.188167</td>\n",
       "      <td>0.156667</td>\n",
       "      <td>1.768192</td>\n",
       "      <td>-0.219916</td>\n",
       "      <td>1.411855</td>\n",
       "      <td>0.414656</td>\n",
       "      <td>0.003892</td>\n",
       "      <td>1.0</td>\n",
       "    </tr>\n",
       "    <tr>\n",
       "      <td>...</td>\n",
       "      <td>...</td>\n",
       "      <td>...</td>\n",
       "      <td>...</td>\n",
       "      <td>...</td>\n",
       "      <td>...</td>\n",
       "      <td>...</td>\n",
       "      <td>...</td>\n",
       "      <td>...</td>\n",
       "      <td>...</td>\n",
       "      <td>...</td>\n",
       "      <td>...</td>\n",
       "      <td>...</td>\n",
       "      <td>...</td>\n",
       "      <td>...</td>\n",
       "      <td>...</td>\n",
       "      <td>...</td>\n",
       "      <td>...</td>\n",
       "      <td>...</td>\n",
       "      <td>...</td>\n",
       "      <td>...</td>\n",
       "      <td>...</td>\n",
       "    </tr>\n",
       "    <tr>\n",
       "      <td>150661</td>\n",
       "      <td>93853.0</td>\n",
       "      <td>-6.185857</td>\n",
       "      <td>7.102985</td>\n",
       "      <td>-13.030455</td>\n",
       "      <td>8.010823</td>\n",
       "      <td>-7.885237</td>\n",
       "      <td>-3.974550</td>\n",
       "      <td>-12.229608</td>\n",
       "      <td>4.971232</td>\n",
       "      <td>-4.248307</td>\n",
       "      <td>...</td>\n",
       "      <td>2.502772</td>\n",
       "      <td>0.481691</td>\n",
       "      <td>0.480958</td>\n",
       "      <td>0.360319</td>\n",
       "      <td>-0.293354</td>\n",
       "      <td>-0.199193</td>\n",
       "      <td>-0.203917</td>\n",
       "      <td>0.398927</td>\n",
       "      <td>0.001748</td>\n",
       "      <td>1.0</td>\n",
       "    </tr>\n",
       "    <tr>\n",
       "      <td>254395</td>\n",
       "      <td>156710.0</td>\n",
       "      <td>0.202402</td>\n",
       "      <td>1.176270</td>\n",
       "      <td>0.346379</td>\n",
       "      <td>2.882138</td>\n",
       "      <td>1.407133</td>\n",
       "      <td>-0.504355</td>\n",
       "      <td>1.438537</td>\n",
       "      <td>-0.395603</td>\n",
       "      <td>-1.555142</td>\n",
       "      <td>...</td>\n",
       "      <td>0.242560</td>\n",
       "      <td>0.841230</td>\n",
       "      <td>-0.370157</td>\n",
       "      <td>-0.026012</td>\n",
       "      <td>0.491954</td>\n",
       "      <td>0.234576</td>\n",
       "      <td>-0.279788</td>\n",
       "      <td>-0.331933</td>\n",
       "      <td>0.000295</td>\n",
       "      <td>1.0</td>\n",
       "    </tr>\n",
       "    <tr>\n",
       "      <td>150665</td>\n",
       "      <td>93856.0</td>\n",
       "      <td>-6.750509</td>\n",
       "      <td>5.367416</td>\n",
       "      <td>-10.054635</td>\n",
       "      <td>9.064478</td>\n",
       "      <td>-7.968118</td>\n",
       "      <td>-2.263798</td>\n",
       "      <td>-10.317566</td>\n",
       "      <td>4.237666</td>\n",
       "      <td>-5.324109</td>\n",
       "      <td>...</td>\n",
       "      <td>1.909032</td>\n",
       "      <td>-0.348740</td>\n",
       "      <td>0.425001</td>\n",
       "      <td>0.674909</td>\n",
       "      <td>-0.784208</td>\n",
       "      <td>-0.247422</td>\n",
       "      <td>1.159581</td>\n",
       "      <td>0.197818</td>\n",
       "      <td>0.008160</td>\n",
       "      <td>1.0</td>\n",
       "    </tr>\n",
       "    <tr>\n",
       "      <td>135718</td>\n",
       "      <td>81372.0</td>\n",
       "      <td>-0.885254</td>\n",
       "      <td>1.790649</td>\n",
       "      <td>-0.945149</td>\n",
       "      <td>3.853433</td>\n",
       "      <td>-1.543510</td>\n",
       "      <td>0.188582</td>\n",
       "      <td>-2.988383</td>\n",
       "      <td>1.344059</td>\n",
       "      <td>-2.294535</td>\n",
       "      <td>...</td>\n",
       "      <td>0.746160</td>\n",
       "      <td>0.550802</td>\n",
       "      <td>-0.034882</td>\n",
       "      <td>-0.567608</td>\n",
       "      <td>-0.528318</td>\n",
       "      <td>0.258782</td>\n",
       "      <td>0.506893</td>\n",
       "      <td>0.176736</td>\n",
       "      <td>0.000295</td>\n",
       "      <td>1.0</td>\n",
       "    </tr>\n",
       "    <tr>\n",
       "      <td>229730</td>\n",
       "      <td>146026.0</td>\n",
       "      <td>1.894036</td>\n",
       "      <td>1.905806</td>\n",
       "      <td>-3.515730</td>\n",
       "      <td>4.508913</td>\n",
       "      <td>2.044466</td>\n",
       "      <td>-1.420468</td>\n",
       "      <td>1.057480</td>\n",
       "      <td>-0.281157</td>\n",
       "      <td>-1.832604</td>\n",
       "      <td>...</td>\n",
       "      <td>-0.144713</td>\n",
       "      <td>-0.310108</td>\n",
       "      <td>-0.101530</td>\n",
       "      <td>-0.414960</td>\n",
       "      <td>0.376597</td>\n",
       "      <td>0.150778</td>\n",
       "      <td>-0.013712</td>\n",
       "      <td>0.048084</td>\n",
       "      <td>0.000086</td>\n",
       "      <td>1.0</td>\n",
       "    </tr>\n",
       "  </tbody>\n",
       "</table>\n",
       "<p>100000 rows × 31 columns</p>\n",
       "</div>"
      ],
      "text/plain": [
       "            Time         V1         V2         V3        V4         V5  \\\n",
       "251891  155548.0   1.878230   1.325630  -2.333469  4.233151   1.355184   \n",
       "255556  157284.0  -0.242245   4.147186  -5.672349  6.493741   1.591168   \n",
       "234633  148053.0   1.261324   2.726800  -5.435019  5.342759   1.447043   \n",
       "154960  103808.0  -4.517344   2.500224  -4.013928  1.189452  -2.486861   \n",
       "15781    27219.0 -25.266355  14.323254 -26.823673  6.349248 -18.664251   \n",
       "...          ...        ...        ...        ...       ...        ...   \n",
       "150661   93853.0  -6.185857   7.102985 -13.030455  8.010823  -7.885237   \n",
       "254395  156710.0   0.202402   1.176270   0.346379  2.882138   1.407133   \n",
       "150665   93856.0  -6.750509   5.367416 -10.054635  9.064478  -7.968118   \n",
       "135718   81372.0  -0.885254   1.790649  -0.945149  3.853433  -1.543510   \n",
       "229730  146026.0   1.894036   1.905806  -3.515730  4.508913   2.044466   \n",
       "\n",
       "              V6         V7         V8        V9  ...       V21       V22  \\\n",
       "251891 -0.853508   0.716025  -0.164910 -1.502345  ... -0.152131 -0.360736   \n",
       "255556 -1.602523  -0.950463   0.722903 -4.128505  ...  0.249023 -0.480286   \n",
       "234633 -1.442584  -0.898702   0.123062 -2.748496  ...  0.209086 -0.425938   \n",
       "154960 -1.413476  -4.245707   1.265087  1.168828  ...  1.326944  0.102999   \n",
       "15781  -4.647403 -17.971212  16.633103 -3.768351  ...  1.780701 -1.861318   \n",
       "...          ...        ...        ...       ...  ...       ...       ...   \n",
       "150661 -3.974550 -12.229608   4.971232 -4.248307  ...  2.502772  0.481691   \n",
       "254395 -0.504355   1.438537  -0.395603 -1.555142  ...  0.242560  0.841230   \n",
       "150665 -2.263798 -10.317566   4.237666 -5.324109  ...  1.909032 -0.348740   \n",
       "135718  0.188582  -2.988383   1.344059 -2.294535  ...  0.746160  0.550802   \n",
       "229730 -1.420468   1.057480  -0.281157 -1.832604  ... -0.144713 -0.310108   \n",
       "\n",
       "             V23       V24       V25       V26       V27       V28    Amount  \\\n",
       "251891  0.043414 -0.242380  0.171098 -0.002601 -0.026667  0.005238  0.000275   \n",
       "255556 -0.286080 -1.153575 -0.035571  0.559628  0.409446  0.221048  0.000030   \n",
       "234633 -0.154440 -0.018820  0.632234  0.192922  0.468181  0.280486  0.000062   \n",
       "154960  0.508167 -0.278018  0.139721  0.064610 -0.972358  0.351360  0.000088   \n",
       "15781  -1.188167  0.156667  1.768192 -0.219916  1.411855  0.414656  0.003892   \n",
       "...          ...       ...       ...       ...       ...       ...       ...   \n",
       "150661  0.480958  0.360319 -0.293354 -0.199193 -0.203917  0.398927  0.001748   \n",
       "254395 -0.370157 -0.026012  0.491954  0.234576 -0.279788 -0.331933  0.000295   \n",
       "150665  0.425001  0.674909 -0.784208 -0.247422  1.159581  0.197818  0.008160   \n",
       "135718 -0.034882 -0.567608 -0.528318  0.258782  0.506893  0.176736  0.000295   \n",
       "229730 -0.101530 -0.414960  0.376597  0.150778 -0.013712  0.048084  0.000086   \n",
       "\n",
       "        Class  \n",
       "251891    1.0  \n",
       "255556    1.0  \n",
       "234633    1.0  \n",
       "154960    1.0  \n",
       "15781     1.0  \n",
       "...       ...  \n",
       "150661    1.0  \n",
       "254395    1.0  \n",
       "150665    1.0  \n",
       "135718    1.0  \n",
       "229730    1.0  \n",
       "\n",
       "[100000 rows x 31 columns]"
      ]
     },
     "execution_count": 28,
     "metadata": {},
     "output_type": "execute_result"
    }
   ],
   "source": [
    "df_minority_upsampled"
   ]
  },
  {
   "cell_type": "code",
   "execution_count": 29,
   "metadata": {},
   "outputs": [],
   "source": [
    "df_upsampled = pd.concat([df_majority, df_minority_upsampled])"
   ]
  },
  {
   "cell_type": "code",
   "execution_count": 30,
   "metadata": {},
   "outputs": [
    {
     "data": {
      "text/plain": [
       "0.0    279461\n",
       "1.0    100000\n",
       "Name: Class, dtype: int64"
      ]
     },
     "execution_count": 30,
     "metadata": {},
     "output_type": "execute_result"
    }
   ],
   "source": [
    "df_upsampled.Class.value_counts()"
   ]
  },
  {
   "cell_type": "code",
   "execution_count": 44,
   "metadata": {},
   "outputs": [],
   "source": [
    "features=df_upsampled.iloc[:,:-1]"
   ]
  },
  {
   "cell_type": "code",
   "execution_count": 45,
   "metadata": {},
   "outputs": [],
   "source": [
    "labels=df_upsampled.iloc[:,30:31]"
   ]
  },
  {
   "cell_type": "code",
   "execution_count": 46,
   "metadata": {},
   "outputs": [],
   "source": [
    "features,labels=shuffle(features,labels)"
   ]
  },
  {
   "cell_type": "code",
   "execution_count": 47,
   "metadata": {},
   "outputs": [],
   "source": [
    "xtrain,xtest,ytrain,ytest=train_test_split(features,labels,test_size=0.2,stratify=labels,random_state=123)"
   ]
  },
  {
   "cell_type": "code",
   "execution_count": 48,
   "metadata": {},
   "outputs": [],
   "source": [
    "def recall_m(y_true, y_pred):\n",
    "        true_positives = K.sum(K.round(K.clip(y_true * y_pred, 0, 1)))\n",
    "        possible_positives = K.sum(K.round(K.clip(y_true, 0, 1)))\n",
    "        recall = true_positives / (possible_positives + K.epsilon())\n",
    "        return recall\n",
    "\n",
    "def precision_m(y_true, y_pred):\n",
    "        true_positives = K.sum(K.round(K.clip(y_true * y_pred, 0, 1)))\n",
    "        predicted_positives = K.sum(K.round(K.clip(y_pred, 0, 1)))\n",
    "        precision = true_positives / (predicted_positives + K.epsilon())\n",
    "        return precision\n",
    "\n",
    "def f1_m(y_true, y_pred):\n",
    "    precision = precision_m(y_true, y_pred)\n",
    "    recall = recall_m(y_true, y_pred)\n",
    "    return 2*((precision*recall)/(precision+recall+K.epsilon()))\n"
   ]
  },
  {
   "cell_type": "code",
   "execution_count": 49,
   "metadata": {},
   "outputs": [
    {
     "name": "stdout",
     "output_type": "stream",
     "text": [
      "Train on 303568 samples, validate on 75893 samples\n",
      "Epoch 1/15\n",
      "303568/303568 [==============================] - 3s 9us/sample - loss: 93.8945 - acc: 0.6623 - f1_m: 0.2739 - precision_m: 0.6607 - recall_m: 0.3425 - val_loss: 74.8267 - val_acc: 0.7726 - val_f1_m: 0.2447 - val_precision_m: 0.9770 - val_recall_m: 0.1408\n",
      "Epoch 2/15\n",
      "303568/303568 [==============================] - 2s 8us/sample - loss: 22.2431 - acc: 0.7521 - f1_m: 0.5646 - precision_m: 0.8451 - recall_m: 0.5510 - val_loss: 35.0528 - val_acc: 0.2725 - val_f1_m: 0.4196 - val_precision_m: 0.2657 - val_recall_m: 1.0000\n",
      "Epoch 3/15\n",
      "303568/303568 [==============================] - 2s 8us/sample - loss: 22.1975 - acc: 0.7656 - f1_m: 0.5967 - precision_m: 0.8481 - recall_m: 0.5813 - val_loss: 12.7842 - val_acc: 0.8645 - val_f1_m: 0.6592 - val_precision_m: 0.9738 - val_recall_m: 0.4994\n",
      "Epoch 4/15\n",
      "303568/303568 [==============================] - 2s 8us/sample - loss: 12.1923 - acc: 0.8023 - f1_m: 0.6777 - precision_m: 0.8609 - recall_m: 0.6546 - val_loss: 17.1443 - val_acc: 0.8553 - val_f1_m: 0.6269 - val_precision_m: 0.9753 - val_recall_m: 0.4632\n",
      "Epoch 5/15\n",
      "303568/303568 [==============================] - 2s 8us/sample - loss: 12.6112 - acc: 0.8172 - f1_m: 0.7012 - precision_m: 0.8643 - recall_m: 0.6779 - val_loss: 13.1356 - val_acc: 0.3042 - val_f1_m: 0.4307 - val_precision_m: 0.2748 - val_recall_m: 1.0000\n",
      "Epoch 6/15\n",
      "303568/303568 [==============================] - 2s 8us/sample - loss: 6.6428 - acc: 0.8483 - f1_m: 0.7512 - precision_m: 0.8662 - recall_m: 0.7400 - val_loss: 8.4595 - val_acc: 0.8777 - val_f1_m: 0.7022 - val_precision_m: 0.9754 - val_recall_m: 0.5499\n",
      "Epoch 7/15\n",
      "303568/303568 [==============================] - 2s 8us/sample - loss: 4.8720 - acc: 0.8550 - f1_m: 0.7665 - precision_m: 0.8722 - recall_m: 0.7528 - val_loss: 3.2783 - val_acc: 0.9180 - val_f1_m: 0.8189 - val_precision_m: 0.9745 - val_recall_m: 0.7070\n",
      "Epoch 8/15\n",
      "303568/303568 [==============================] - 3s 8us/sample - loss: 5.7801 - acc: 0.8490 - f1_m: 0.7534 - precision_m: 0.8760 - recall_m: 0.7359 - val_loss: 0.6792 - val_acc: 0.9497 - val_f1_m: 0.8985 - val_precision_m: 0.9496 - val_recall_m: 0.8531\n",
      "Epoch 9/15\n",
      "303568/303568 [==============================] - 2s 8us/sample - loss: 3.4480 - acc: 0.8453 - f1_m: 0.7416 - precision_m: 0.8861 - recall_m: 0.7195 - val_loss: 0.1833 - val_acc: 0.9513 - val_f1_m: 0.9061 - val_precision_m: 0.9223 - val_recall_m: 0.8911\n",
      "Epoch 10/15\n",
      "303568/303568 [==============================] - 2s 8us/sample - loss: 1.3864 - acc: 0.8835 - f1_m: 0.8049 - precision_m: 0.9022 - recall_m: 0.7805 - val_loss: 0.2132 - val_acc: 0.9535 - val_f1_m: 0.9077 - val_precision_m: 0.9494 - val_recall_m: 0.8703\n",
      "Epoch 11/15\n",
      "303568/303568 [==============================] - 2s 8us/sample - loss: 1.2024 - acc: 0.8894 - f1_m: 0.8168 - precision_m: 0.9075 - recall_m: 0.7918 - val_loss: 0.2293 - val_acc: 0.9551 - val_f1_m: 0.9096 - val_precision_m: 0.9653 - val_recall_m: 0.8604\n",
      "Epoch 12/15\n",
      "303568/303568 [==============================] - 2s 8us/sample - loss: 0.6290 - acc: 0.9200 - f1_m: 0.8606 - precision_m: 0.9194 - recall_m: 0.8368 - val_loss: 0.2695 - val_acc: 0.9558 - val_f1_m: 0.9118 - val_precision_m: 0.9566 - val_recall_m: 0.8716\n",
      "Epoch 13/15\n",
      "303568/303568 [==============================] - 2s 8us/sample - loss: 1.0524 - acc: 0.9192 - f1_m: 0.8548 - precision_m: 0.9240 - recall_m: 0.8289 - val_loss: 0.2312 - val_acc: 0.9541 - val_f1_m: 0.9057 - val_precision_m: 0.9814 - val_recall_m: 0.8417\n",
      "Epoch 14/15\n",
      "303568/303568 [==============================] - 2s 8us/sample - loss: 0.9200 - acc: 0.8971 - f1_m: 0.8248 - precision_m: 0.9254 - recall_m: 0.7880 - val_loss: 0.1461 - val_acc: 0.9564 - val_f1_m: 0.9149 - val_precision_m: 0.9417 - val_recall_m: 0.8901\n",
      "Epoch 15/15\n",
      "303568/303568 [==============================] - 2s 8us/sample - loss: 0.1449 - acc: 0.9574 - f1_m: 0.9151 - precision_m: 0.9603 - recall_m: 0.8751 - val_loss: 0.1359 - val_acc: 0.9591 - val_f1_m: 0.9191 - val_precision_m: 0.9555 - val_recall_m: 0.8860\n"
     ]
    }
   ],
   "source": [
    "model = Sequential()\n",
    "model.add(Dense(128, input_dim=30, activation='relu'))\n",
    "#model.add(Dense(64,activation='relu'))\n",
    "model.add(Dense(32,activation='relu'))\n",
    "model.add(Dense(16, activation='relu'))\n",
    "model.add(Dense(1, activation='sigmoid'))\n",
    "model.compile(optimizer=\"adam\", loss=\"binary_crossentropy\", metrics=['accuracy',f1_m,precision_m, recall_m])\n",
    "history=model.fit(xtrain,ytrain,validation_data=(xtest,ytest),epochs=15,batch_size=512,verbose=1)"
   ]
  },
  {
   "cell_type": "code",
   "execution_count": 50,
   "metadata": {},
   "outputs": [],
   "source": [
    "def visualize_model(history):\n",
    "    plt.figure(figsize=(24,8))\n",
    "    plt.subplot(1,2,1)\n",
    "    plt.plot(history.history[\"val_acc\"],label=\"validation_accuracy\",c=\"red\",linewidth=4)\n",
    "    plt.plot(history.history[\"acc\"],label=\"training_accuracy\",c=\"green\",linewidth=4)\n",
    "    plt.legend()\n",
    "    plt.grid(True)\n",
    "    \n",
    "    plt.subplot(1,2,2)\n",
    "    plt.plot(history.history[\"val_loss\"],label=\"validation loss\",c=\"red\",linewidth=4)\n",
    "    plt.plot(history.history[\"loss\"],label=\"training_loss\",c=\"green\",linewidth=4)\n",
    "    plt.legend()\n",
    "    plt.grid(True)\n",
    "    plt.suptitle(\"ACC / LOSS\",fontsize=18)\n",
    "\n",
    "    plt.show()"
   ]
  },
  {
   "cell_type": "code",
   "execution_count": 51,
   "metadata": {},
   "outputs": [
    {
     "data": {
      "image/png": "[encoded data removed]",
      "text/plain": [
       "<Figure size 1728x576 with 2 Axes>"
      ]
     },
     "metadata": {
      "needs_background": "light"
     },
     "output_type": "display_data"
    }
   ],
   "source": [
    "visualize_model(history)"
   ]
  },
  {
   "cell_type": "code",
   "execution_count": 52,
   "metadata": {},
   "outputs": [
    {
     "name": "stdout",
     "output_type": "stream",
     "text": [
      "75893/75893 [==============================] - 2s 25us/sample - loss: 0.1359 - acc: 0.9591 - f1_m: 0.9139 - precision_m: 0.9560 - recall_m: 0.8853\n"
     ]
    }
   ],
   "source": [
    "loss, accuracy, f1_score, precision, recall = model.evaluate(xtest, ytest, verbose=1)\n"
   ]
  },
  {
   "cell_type": "code",
   "execution_count": 53,
   "metadata": {},
   "outputs": [],
   "source": [
    "model.save('keras_credit_card2.h5')"
   ]
  },
  {
   "cell_type": "code",
   "execution_count": 54,
   "metadata": {},
   "outputs": [
    {
     "name": "stdout",
     "output_type": "stream",
     "text": [
      "Model: \"sequential_2\"\n",
      "_________________________________________________________________\n",
      "Layer (type)                 Output Shape              Param #   \n",
      "=================================================================\n",
      "dense_8 (Dense)              (None, 128)               3968      \n",
      "_________________________________________________________________\n",
      "dense_9 (Dense)              (None, 32)                4128      \n",
      "_________________________________________________________________\n",
      "dense_10 (Dense)             (None, 16)                528       \n",
      "_________________________________________________________________\n",
      "dense_11 (Dense)             (None, 1)                 17        \n",
      "=================================================================\n",
      "Total params: 8,641\n",
      "Trainable params: 8,641\n",
      "Non-trainable params: 0\n",
      "_________________________________________________________________\n"
     ]
    }
   ],
   "source": [
    "model.summary()"
   ]
  },
  {
   "cell_type": "code",
   "execution_count": null,
   "metadata": {},
   "outputs": [],
   "source": []
  }
 ],
 "metadata": {
  "kernelspec": {
   "display_name": "Python 3",
   "language": "python",
   "name": "python3"
  },
  "language_info": {
   "codemirror_mode": {
    "name": "ipython",
    "version": 3
   },
   "file_extension": ".py",
   "mimetype": "text/x-python",
   "name": "python",
   "nbconvert_exporter": "python",
   "pygments_lexer": "ipython3",
   "version": "3.7.3"
  }
 },
 "nbformat": 4,
 "nbformat_minor": 4
}
